{
 "cells": [
  {
   "cell_type": "code",
   "execution_count": 6,
   "metadata": {},
   "outputs": [],
   "source": [
    "import os\n",
    "import shutil\n",
    "import cv2 as cv"
   ]
  },
  {
   "cell_type": "code",
   "execution_count": 7,
   "metadata": {},
   "outputs": [],
   "source": [
    "def creeazaDatasetTotal():\n",
    "    foldere_personaje = ['dad', 'mom', 'deedee', 'dexter']\n",
    "    basepath = 'antrenare'\n",
    "    folder_destinatie = os.path.join(basepath, 'exemple_pozitive_total')\n",
    "    \n",
    "    os.makedirs(folder_destinatie, exist_ok=True)\n",
    "    for personaj in foldere_personaje:\n",
    "        cale_sursa = os.path.join(basepath, personaj)\n",
    "        for numar_imagine in range(1, 1001):\n",
    "            numar_imagine_formatat = str(numar_imagine).zfill(4)\n",
    "            file_source = os.path.join(cale_sursa, f'{numar_imagine_formatat}.jpg')\n",
    "            file_dest = os.path.join(folder_destinatie, f'{numar_imagine_formatat}_{personaj}.jpg')\n",
    "            if os.path.exists(file_source):\n",
    "                shutil.copy2(file_source, file_dest)\n",
    "            else:\n",
    "                print(f\"Atentie: Fisierul {file_source} nu a fost gasit\")\n",
    "                \n",
    "def citesteAdnotarilePentruFiecareImagine(nume_personaj=\"dexter\"):\n",
    "    file_path = os.path.join('antrenare', f'{nume_personaj}_annotations.txt')\n",
    "    with open(file_path, 'r') as f:\n",
    "        continut = f.readlines()\n",
    "    adnotari = {}\n",
    "    for linie in continut:\n",
    "        nume_imagine, x_min, y_min, x_max, y_max, personaj = linie.split()\n",
    "        if nume_imagine not in adnotari:\n",
    "            adnotari[nume_imagine] = []\n",
    "        adnotari[nume_imagine].append({'coords': (int(x_min), int(y_min), int(x_max), int(y_max)), 'personaj': personaj\n",
    "        })\n",
    "    return adnotari\n",
    "\n",
    "def afiseazaFiecareImagineCuBoundingBoxes(nume_personaj=\"dexter\"):\n",
    "    adnotari = citesteAdnotarilePentruFiecareImagine(nume_personaj)\n",
    "    folder_imagini = os.path.join('antrenare', nume_personaj)\n",
    "    imagini = os.listdir(folder_imagini)\n",
    "    for imagine in imagini:\n",
    "        imagine_completa = os.path.join(folder_imagini, imagine)\n",
    "        img = cv.imread(imagine_completa)\n",
    "        if imagine in adnotari:\n",
    "            for anotare in adnotari[imagine]:\n",
    "                x_min, y_min, x_max, y_max = anotare['coords']\n",
    "                cv.rectangle(img, (x_min, y_min), (x_max, y_max), (0, 255, 0), 2)\n",
    "        cv.imshow('imagine ' + imagine, img)\n",
    "        cv.waitKey(0)\n",
    "        cv.destroyAllWindows()\n",
    "\n",
    "def creeazaFisierTotalAdnotari():\n",
    "    foldere_personaje = ['dad', 'mom', 'deedee', 'dexter']\n",
    "    fisier_destinatie = os.path.join('antrenare', 'toate_adnotarile.txt')\n",
    "    \n",
    "    with open(fisier_destinatie, 'w') as f_dest:\n",
    "        for personaj in foldere_personaje:\n",
    "            cale_adnotari = os.path.join('antrenare', f'{personaj}_annotations.txt')\n",
    "            with open(cale_adnotari, 'r') as f_sursa:\n",
    "                for linie in f_sursa:\n",
    "                    nume_imagine, x_min, y_min, x_max, y_max, personaj_detectat = linie.strip().split()\n",
    "                    nume_nou = f\"{nume_imagine.split('.')[0]}_{personaj}.jpg\"\n",
    "                    f_dest.write(f\"{nume_nou} {x_min} {y_min} {x_max} {y_max} {personaj_detectat}\\n\")\n"
   ]
  },
  {
   "cell_type": "code",
   "execution_count": 8,
   "metadata": {},
   "outputs": [],
   "source": [
    "def creareDatasetCropatFisiere():\n",
    "    # Deschidem folderul exemple_pozitive_total\n",
    "    folder_sursa = os.path.join('antrenare', 'exemple_pozitive_total')\n",
    "    adnotations_file = os.path.join('antrenare', 'toate_adnotarile.txt')\n",
    "    # Creaza folderul exemple_pozitive_cropate\n",
    "    os.makedirs(os.path.join('antrenare', 'exemple_pozitive_cropate'), exist_ok=True)\n",
    "    \n",
    "    with open(adnotations_file, 'r') as f:\n",
    "        adnotations = f.readlines()\n",
    "    for adnotation in adnotations:\n",
    "        nume_imagine, x_min, y_min, x_max, y_max, personaj_detectat = adnotation.strip().split()\n",
    "        imagine = cv.imread(os.path.join(folder_sursa, nume_imagine))\n",
    "        imagine_cropata = imagine[int(y_min):int(y_max), int(x_min):int(x_max)]\n",
    "        \n",
    "        # Skip images that are too small (minimum 12x12 pixels required for HOG)\n",
    "        if imagine_cropata.shape[0] < 12 or imagine_cropata.shape[1] < 12:\n",
    "            print(f\"Skipping {nume_imagine} - too small: {imagine_cropata.shape}\")\n",
    "            continue\n",
    "            \n",
    "        nume_baza = os.path.splitext(nume_imagine)[0]\n",
    "        nume_imagine_cropata = f\"{nume_baza}_{personaj_detectat}.jpg\"\n",
    "        numar = 1\n",
    "        while os.path.exists(os.path.join('antrenare', 'exemple_pozitive_cropate', nume_imagine_cropata)):\n",
    "            nume_imagine_cropata = f\"{nume_baza}_{personaj_detectat}_{numar}.jpg\"\n",
    "            numar += 1\n",
    "        cv.imwrite(os.path.join('antrenare', 'exemple_pozitive_cropate', nume_imagine_cropata), imagine_cropata)"
   ]
  },
  {
   "cell_type": "code",
   "execution_count": 9,
   "metadata": {},
   "outputs": [
    {
     "name": "stdout",
     "output_type": "stream",
     "text": [
      "Skipping 0856_dad.jpg - too small: (15, 11, 3)\n"
     ]
    }
   ],
   "source": [
    "# afiseazaFiecareImagineCuBoundingBoxes(\"dexter\")\n",
    "# creeazaFisierTotalAdnotari()\n",
    "creareDatasetCropatFisiere()"
   ]
  }
 ],
 "metadata": {
  "kernelspec": {
   "display_name": "Python 3",
   "language": "python",
   "name": "python3"
  },
  "language_info": {
   "codemirror_mode": {
    "name": "ipython",
    "version": 3
   },
   "file_extension": ".py",
   "mimetype": "text/x-python",
   "name": "python",
   "nbconvert_exporter": "python",
   "pygments_lexer": "ipython3",
   "version": "3.10.16"
  }
 },
 "nbformat": 4,
 "nbformat_minor": 2
}
